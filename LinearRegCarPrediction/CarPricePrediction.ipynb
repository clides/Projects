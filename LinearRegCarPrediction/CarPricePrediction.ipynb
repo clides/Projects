{
 "cells": [
  {
   "cell_type": "code",
   "execution_count": 1,
   "id": "cb625a63-4d7a-41fa-a0d4-d22ad13d1deb",
   "metadata": {},
   "outputs": [],
   "source": [
    "import torch\n",
    "import torch.nn as nn\n",
    "import pandas as pd\n",
    "import matplotlib.pyplot as plt\n",
    "import torch.nn.functional as F\n",
    "from torch.utils.data import DataLoader, TensorDataset, Dataset\n",
    "from sklearn.preprocessing import MinMaxScaler\n",
    "from sklearn.model_selection import train_test_split"
   ]
  },
  {
   "cell_type": "code",
   "execution_count": 2,
   "id": "62288417-6d0a-4672-bf7f-9f60fb48bf0e",
   "metadata": {},
   "outputs": [
    {
     "name": "stdout",
     "output_type": "stream",
     "text": [
      "Using device: mps\n"
     ]
    }
   ],
   "source": [
    "# Setup device agnostic code\n",
    "device = \"mps\" if torch.backends.mps.is_available() else \"cpu\"\n",
    "print(f\"Using device: {device}\")"
   ]
  },
  {
   "cell_type": "markdown",
   "id": "7aa90173-ed91-4d34-912e-c0294e371c8d",
   "metadata": {},
   "source": [
    "# Reading/processing the data"
   ]
  },
  {
   "cell_type": "code",
   "execution_count": 3,
   "id": "b1858d7e-992c-4e87-929e-e71fb8b5cd0a",
   "metadata": {},
   "outputs": [
    {
     "data": {
      "text/html": [
       "<div>\n",
       "<style scoped>\n",
       "    .dataframe tbody tr th:only-of-type {\n",
       "        vertical-align: middle;\n",
       "    }\n",
       "\n",
       "    .dataframe tbody tr th {\n",
       "        vertical-align: top;\n",
       "    }\n",
       "\n",
       "    .dataframe thead th {\n",
       "        text-align: right;\n",
       "    }\n",
       "</style>\n",
       "<table border=\"1\" class=\"dataframe\">\n",
       "  <thead>\n",
       "    <tr style=\"text-align: right;\">\n",
       "      <th></th>\n",
       "      <th>Car_Name</th>\n",
       "      <th>Year</th>\n",
       "      <th>Selling_Price</th>\n",
       "      <th>Present_Price</th>\n",
       "      <th>Kms_Driven</th>\n",
       "      <th>Fuel_Type</th>\n",
       "      <th>Seller_Type</th>\n",
       "      <th>Transmission</th>\n",
       "      <th>Owner</th>\n",
       "    </tr>\n",
       "  </thead>\n",
       "  <tbody>\n",
       "    <tr>\n",
       "      <th>0</th>\n",
       "      <td>ritz</td>\n",
       "      <td>2014</td>\n",
       "      <td>3.35</td>\n",
       "      <td>5.59</td>\n",
       "      <td>27000</td>\n",
       "      <td>Petrol</td>\n",
       "      <td>Dealer</td>\n",
       "      <td>Manual</td>\n",
       "      <td>0</td>\n",
       "    </tr>\n",
       "    <tr>\n",
       "      <th>1</th>\n",
       "      <td>sx4</td>\n",
       "      <td>2013</td>\n",
       "      <td>4.75</td>\n",
       "      <td>9.54</td>\n",
       "      <td>43000</td>\n",
       "      <td>Diesel</td>\n",
       "      <td>Dealer</td>\n",
       "      <td>Manual</td>\n",
       "      <td>0</td>\n",
       "    </tr>\n",
       "    <tr>\n",
       "      <th>2</th>\n",
       "      <td>ciaz</td>\n",
       "      <td>2017</td>\n",
       "      <td>7.25</td>\n",
       "      <td>9.85</td>\n",
       "      <td>6900</td>\n",
       "      <td>Petrol</td>\n",
       "      <td>Dealer</td>\n",
       "      <td>Manual</td>\n",
       "      <td>0</td>\n",
       "    </tr>\n",
       "    <tr>\n",
       "      <th>3</th>\n",
       "      <td>wagon r</td>\n",
       "      <td>2011</td>\n",
       "      <td>2.85</td>\n",
       "      <td>4.15</td>\n",
       "      <td>5200</td>\n",
       "      <td>Petrol</td>\n",
       "      <td>Dealer</td>\n",
       "      <td>Manual</td>\n",
       "      <td>0</td>\n",
       "    </tr>\n",
       "    <tr>\n",
       "      <th>4</th>\n",
       "      <td>swift</td>\n",
       "      <td>2014</td>\n",
       "      <td>4.60</td>\n",
       "      <td>6.87</td>\n",
       "      <td>42450</td>\n",
       "      <td>Diesel</td>\n",
       "      <td>Dealer</td>\n",
       "      <td>Manual</td>\n",
       "      <td>0</td>\n",
       "    </tr>\n",
       "  </tbody>\n",
       "</table>\n",
       "</div>"
      ],
      "text/plain": [
       "  Car_Name  Year  Selling_Price  Present_Price  Kms_Driven Fuel_Type  \\\n",
       "0     ritz  2014           3.35           5.59       27000    Petrol   \n",
       "1      sx4  2013           4.75           9.54       43000    Diesel   \n",
       "2     ciaz  2017           7.25           9.85        6900    Petrol   \n",
       "3  wagon r  2011           2.85           4.15        5200    Petrol   \n",
       "4    swift  2014           4.60           6.87       42450    Diesel   \n",
       "\n",
       "  Seller_Type Transmission  Owner  \n",
       "0      Dealer       Manual      0  \n",
       "1      Dealer       Manual      0  \n",
       "2      Dealer       Manual      0  \n",
       "3      Dealer       Manual      0  \n",
       "4      Dealer       Manual      0  "
      ]
     },
     "execution_count": 3,
     "metadata": {},
     "output_type": "execute_result"
    }
   ],
   "source": [
    "CAR_DATA = \"car_data.csv\"\n",
    "dataframe_raw = pd.read_csv(CAR_DATA)\n",
    "dataframe_raw.head()"
   ]
  },
  {
   "cell_type": "code",
   "execution_count": 4,
   "id": "2d8955ed-b651-4a74-97d5-ccd33842afb5",
   "metadata": {},
   "outputs": [
    {
     "data": {
      "text/html": [
       "<div>\n",
       "<style scoped>\n",
       "    .dataframe tbody tr th:only-of-type {\n",
       "        vertical-align: middle;\n",
       "    }\n",
       "\n",
       "    .dataframe tbody tr th {\n",
       "        vertical-align: top;\n",
       "    }\n",
       "\n",
       "    .dataframe thead th {\n",
       "        text-align: right;\n",
       "    }\n",
       "</style>\n",
       "<table border=\"1\" class=\"dataframe\">\n",
       "  <thead>\n",
       "    <tr style=\"text-align: right;\">\n",
       "      <th></th>\n",
       "      <th>Year</th>\n",
       "      <th>Selling_Price</th>\n",
       "      <th>Present_Price</th>\n",
       "      <th>Kms_Driven</th>\n",
       "      <th>Fuel_Type</th>\n",
       "      <th>Transmission</th>\n",
       "    </tr>\n",
       "  </thead>\n",
       "  <tbody>\n",
       "    <tr>\n",
       "      <th>37</th>\n",
       "      <td>2003</td>\n",
       "      <td>0.35</td>\n",
       "      <td>2.28</td>\n",
       "      <td>127000</td>\n",
       "      <td>Petrol</td>\n",
       "      <td>Manual</td>\n",
       "    </tr>\n",
       "    <tr>\n",
       "      <th>39</th>\n",
       "      <td>2003</td>\n",
       "      <td>2.25</td>\n",
       "      <td>7.98</td>\n",
       "      <td>62000</td>\n",
       "      <td>Petrol</td>\n",
       "      <td>Manual</td>\n",
       "    </tr>\n",
       "    <tr>\n",
       "      <th>77</th>\n",
       "      <td>2004</td>\n",
       "      <td>1.50</td>\n",
       "      <td>12.35</td>\n",
       "      <td>135154</td>\n",
       "      <td>Petrol</td>\n",
       "      <td>Automatic</td>\n",
       "    </tr>\n",
       "    <tr>\n",
       "      <th>54</th>\n",
       "      <td>2005</td>\n",
       "      <td>2.75</td>\n",
       "      <td>10.21</td>\n",
       "      <td>90000</td>\n",
       "      <td>Petrol</td>\n",
       "      <td>Manual</td>\n",
       "    </tr>\n",
       "    <tr>\n",
       "      <th>84</th>\n",
       "      <td>2005</td>\n",
       "      <td>3.49</td>\n",
       "      <td>13.46</td>\n",
       "      <td>197176</td>\n",
       "      <td>Diesel</td>\n",
       "      <td>Manual</td>\n",
       "    </tr>\n",
       "  </tbody>\n",
       "</table>\n",
       "</div>"
      ],
      "text/plain": [
       "    Year  Selling_Price  Present_Price  Kms_Driven Fuel_Type Transmission\n",
       "37  2003           0.35           2.28      127000    Petrol       Manual\n",
       "39  2003           2.25           7.98       62000    Petrol       Manual\n",
       "77  2004           1.50          12.35      135154    Petrol    Automatic\n",
       "54  2005           2.75          10.21       90000    Petrol       Manual\n",
       "84  2005           3.49          13.46      197176    Diesel       Manual"
      ]
     },
     "execution_count": 4,
     "metadata": {},
     "output_type": "execute_result"
    }
   ],
   "source": [
    "# Set the column of what to display\n",
    "columns = [\"Year\", \"Selling_Price\", \"Present_Price\", \"Kms_Driven\", \"Fuel_Type\", \"Transmission\"]\n",
    "dataframe = pd.read_csv(CAR_DATA, usecols=columns)\n",
    "\n",
    "# Sorting the dataframe\n",
    "dataframe = dataframe.sort_values(by=\"Year\")\n",
    "dataframe.head()"
   ]
  },
  {
   "cell_type": "code",
   "execution_count": 5,
   "id": "242c0b43-681f-4dee-a50e-b5368571ce49",
   "metadata": {},
   "outputs": [
    {
     "data": {
      "text/html": [
       "<div>\n",
       "<style scoped>\n",
       "    .dataframe tbody tr th:only-of-type {\n",
       "        vertical-align: middle;\n",
       "    }\n",
       "\n",
       "    .dataframe tbody tr th {\n",
       "        vertical-align: top;\n",
       "    }\n",
       "\n",
       "    .dataframe thead th {\n",
       "        text-align: right;\n",
       "    }\n",
       "</style>\n",
       "<table border=\"1\" class=\"dataframe\">\n",
       "  <thead>\n",
       "    <tr style=\"text-align: right;\">\n",
       "      <th></th>\n",
       "      <th>Year</th>\n",
       "      <th>Selling_Price</th>\n",
       "      <th>Present_Price</th>\n",
       "      <th>Kms_Driven</th>\n",
       "      <th>Fuel_Type</th>\n",
       "      <th>Transmission</th>\n",
       "    </tr>\n",
       "  </thead>\n",
       "  <tbody>\n",
       "    <tr>\n",
       "      <th>37</th>\n",
       "      <td>2003</td>\n",
       "      <td>-0.985673</td>\n",
       "      <td>-0.957521</td>\n",
       "      <td>-0.493493</td>\n",
       "      <td>Petrol</td>\n",
       "      <td>Manual</td>\n",
       "    </tr>\n",
       "    <tr>\n",
       "      <th>39</th>\n",
       "      <td>2003</td>\n",
       "      <td>-0.876791</td>\n",
       "      <td>-0.833984</td>\n",
       "      <td>-0.753754</td>\n",
       "      <td>Petrol</td>\n",
       "      <td>Manual</td>\n",
       "    </tr>\n",
       "    <tr>\n",
       "      <th>77</th>\n",
       "      <td>2004</td>\n",
       "      <td>-0.919771</td>\n",
       "      <td>-0.739272</td>\n",
       "      <td>-0.460845</td>\n",
       "      <td>Petrol</td>\n",
       "      <td>Automatic</td>\n",
       "    </tr>\n",
       "    <tr>\n",
       "      <th>54</th>\n",
       "      <td>2005</td>\n",
       "      <td>-0.848138</td>\n",
       "      <td>-0.785652</td>\n",
       "      <td>-0.641642</td>\n",
       "      <td>Petrol</td>\n",
       "      <td>Manual</td>\n",
       "    </tr>\n",
       "    <tr>\n",
       "      <th>84</th>\n",
       "      <td>2005</td>\n",
       "      <td>-0.805731</td>\n",
       "      <td>-0.715215</td>\n",
       "      <td>-0.212509</td>\n",
       "      <td>Diesel</td>\n",
       "      <td>Manual</td>\n",
       "    </tr>\n",
       "  </tbody>\n",
       "</table>\n",
       "</div>"
      ],
      "text/plain": [
       "    Year  Selling_Price  Present_Price  Kms_Driven Fuel_Type Transmission\n",
       "37  2003      -0.985673      -0.957521   -0.493493    Petrol       Manual\n",
       "39  2003      -0.876791      -0.833984   -0.753754    Petrol       Manual\n",
       "77  2004      -0.919771      -0.739272   -0.460845    Petrol    Automatic\n",
       "54  2005      -0.848138      -0.785652   -0.641642    Petrol       Manual\n",
       "84  2005      -0.805731      -0.715215   -0.212509    Diesel       Manual"
      ]
     },
     "execution_count": 5,
     "metadata": {},
     "output_type": "execute_result"
    }
   ],
   "source": [
    "# Scaling the dataset\n",
    "scaler = MinMaxScaler(feature_range=(-1, 1))\n",
    "dataframe[\"Selling_Price\"] = scaler.fit_transform(dataframe[\"Selling_Price\"].values.reshape(-1, 1))\n",
    "dataframe[\"Present_Price\"] = scaler.fit_transform(dataframe[\"Present_Price\"].values.reshape(-1, 1))\n",
    "dataframe[\"Kms_Driven\"] = scaler.fit_transform(dataframe[\"Kms_Driven\"].values.reshape(-1, 1))\n",
    "\n",
    "dataframe.head()"
   ]
  },
  {
   "cell_type": "code",
   "execution_count": 6,
   "id": "cd53c4d5-40b6-4f83-b3b5-c9c70c2660c5",
   "metadata": {},
   "outputs": [],
   "source": [
    "# Catorizing the rows, columns, and variables\n",
    "input_cols = [\"Year\", \"Present_Price\", \"Kms_Driven\"]\n",
    "categorical_cols = [\"Fuel_Type\", \"Transmission\"]\n",
    "output_cols = [\"Selling_Price\"]"
   ]
  },
  {
   "cell_type": "code",
   "execution_count": 7,
   "id": "62078547-9219-4101-84a1-c2994f96dd00",
   "metadata": {},
   "outputs": [
    {
     "data": {
      "text/plain": [
       "(array([[ 2.00300000e+03, -9.57520590e-01, -4.93493493e-01],\n",
       "        [ 2.00300000e+03, -8.33983528e-01, -7.53753754e-01],\n",
       "        [ 2.00400000e+03, -7.39271782e-01, -4.60844845e-01],\n",
       "        [ 2.00500000e+03, -7.85652362e-01, -6.41641642e-01],\n",
       "        [ 2.00500000e+03, -7.15214564e-01, -2.12508509e-01],\n",
       "        [ 2.00500000e+03, -7.10013004e-01, -7.01701702e-01],\n",
       "        [ 2.00500000e+03, -9.94581708e-01, -7.81781782e-01],\n",
       "        [ 2.00600000e+03, -4.92631123e-01, -4.33433433e-01],\n",
       "        [ 2.00600000e+03, -9.16991764e-01, -7.41741742e-01],\n",
       "        [ 2.00600000e+03, -9.90680537e-01, -6.32700701e-01]]),\n",
       " array([[-0.98567335],\n",
       "        [-0.87679083],\n",
       "        [-0.91977077],\n",
       "        [-0.84813754],\n",
       "        [-0.80573066],\n",
       "        [-0.80458453],\n",
       "        [-0.99426934],\n",
       "        [-0.86246418],\n",
       "        [-0.94555874],\n",
       "        [-1.        ]]))"
      ]
     },
     "execution_count": 7,
     "metadata": {},
     "output_type": "execute_result"
    }
   ],
   "source": [
    "# Converting from dataframe to numpy arrays\n",
    "def dataframe_to_arrays(dataframe):\n",
    "    # Make a copy of the original dataframe\n",
    "    dataframe1 = dataframe.copy(deep=True)\n",
    "    \n",
    "    # Convert non-numeric categorical columns to numbers\n",
    "    for col in categorical_cols:\n",
    "        dataframe1[col] = dataframe1[col].astype('category').cat.codes\n",
    "        \n",
    "    # Extract input & outupts as numpy arrays\n",
    "    inputs_array = dataframe1[input_cols].to_numpy()\n",
    "    targets_array = dataframe1[output_cols].to_numpy()\n",
    "    \n",
    "    return inputs_array, targets_array\n",
    "\n",
    "inputs_array, targets_array = dataframe_to_arrays(dataframe)\n",
    "inputs_array[:10], targets_array[:10]"
   ]
  },
  {
   "cell_type": "code",
   "execution_count": 21,
   "id": "0f6ec291-efb1-4173-b45b-16e3daafffde",
   "metadata": {},
   "outputs": [],
   "source": [
    "# Custom Dataset class\n",
    "class CustomDataset(Dataset):\n",
    "    def __init__(self, inputs, targets):\n",
    "        self.inputs = inputs\n",
    "        self.targets = targets\n",
    "\n",
    "    def __len__(self):\n",
    "        return len(self.inputs)\n",
    "\n",
    "    def __getitem__(self, idx):\n",
    "        return self.inputs[idx], self.targets[idx]\n",
    "\n",
    "# Converting from numpy arrays to pytorch tensors\n",
    "inputs = torch.Tensor(inputs_array)\n",
    "targets = torch.Tensor(targets_array)\n",
    "\n",
    "# Creating training and testing datasets\n",
    "X_train, X_test, y_train, y_test = train_test_split(inputs, targets, random_state=42)\n",
    "\n",
    "# Create custom datasets\n",
    "train_dataset = CustomDataset(X_train, y_train)\n",
    "test_dataset = CustomDataset(X_test, y_test)\n",
    "\n",
    "# Define batch size\n",
    "batch_size = 16\n",
    "\n",
    "# Split up the dataset into batches\n",
    "train_loader = DataLoader(train_dataset, batch_size=batch_size, shuffle=True)\n",
    "test_loader = DataLoader(test_dataset, batch_size=batch_size, shuffle=False)"
   ]
  },
  {
   "cell_type": "code",
   "execution_count": 40,
   "id": "3350ce93-38cd-46e1-b974-6bddb66a73c6",
   "metadata": {},
   "outputs": [
    {
     "data": {
      "text/plain": [
       "(tensor([ 2.0150e+03, -7.8197e-01, -8.2182e-01]), tensor([-0.5788]))"
      ]
     },
     "execution_count": 40,
     "metadata": {},
     "output_type": "execute_result"
    }
   ],
   "source": [
    "test_dataset[0]"
   ]
  },
  {
   "cell_type": "markdown",
   "id": "1ae2a8cd-c091-464f-9dd3-b3b170c0b57b",
   "metadata": {},
   "source": [
    "# Creating the model"
   ]
  },
  {
   "cell_type": "code",
   "execution_count": 9,
   "id": "a973abf9-c6a8-460c-b075-b97d5a64efd6",
   "metadata": {},
   "outputs": [
    {
     "data": {
      "text/plain": [
       "(3, 1)"
      ]
     },
     "execution_count": 9,
     "metadata": {},
     "output_type": "execute_result"
    }
   ],
   "source": [
    "input_size = len(input_cols)\n",
    "output_size = len(output_cols)\n",
    "input_size, output_size"
   ]
  },
  {
   "cell_type": "code",
   "execution_count": 22,
   "id": "4bb8af4d-5ed7-49c5-b625-a977753fca93",
   "metadata": {},
   "outputs": [
    {
     "data": {
      "text/plain": [
       "OrderedDict([('linear_layer.weight', tensor([[ 0.4414,  0.4792, -0.1353]])),\n",
       "             ('linear_layer.bias', tensor([0.5304]))])"
      ]
     },
     "execution_count": 22,
     "metadata": {},
     "output_type": "execute_result"
    }
   ],
   "source": [
    "# Creating a functions\n",
    "class CarPredictionModel(nn.Module):\n",
    "    def __init__(self):\n",
    "        super().__init__()\n",
    "        self.linear_layer = nn.Linear(in_features=3, out_features=1)\n",
    "\n",
    "    def forward(self, x: torch.Tensor) -> torch.Tensor:\n",
    "        return self.linear_layer(x)\n",
    "\n",
    "# Set the manual seed\n",
    "torch.manual_seed(42)\n",
    "\n",
    "model_1 = CarPredictionModel()\n",
    "model_1.state_dict()"
   ]
  },
  {
   "cell_type": "code",
   "execution_count": 37,
   "id": "c1a4335b-7b1b-42e8-9ecb-2d64f372670a",
   "metadata": {},
   "outputs": [],
   "source": [
    "# Setup loss function\n",
    "loss_fn = nn.L1Loss() # same as MAE\n",
    "\n",
    "# Setup optimizer\n",
    "optimizer = torch.optim.SGD(params=model_1.parameters(), lr=1e-7)"
   ]
  },
  {
   "cell_type": "markdown",
   "id": "9bfe55d7-7ae4-4b4f-a309-780531c953b4",
   "metadata": {},
   "source": [
    "# Training the Model"
   ]
  },
  {
   "cell_type": "code",
   "execution_count": 38,
   "id": "3a503135-1608-4ca4-8d18-06eb66c22daf",
   "metadata": {},
   "outputs": [
    {
     "name": "stdout",
     "output_type": "stream",
     "text": [
      "Epoch 0/500, Loss: 9.9366\n",
      "Epoch 50/500, Loss: 0.1910\n",
      "Epoch 100/500, Loss: 0.1948\n",
      "Epoch 150/500, Loss: 0.2100\n",
      "Epoch 200/500, Loss: 0.1930\n",
      "Epoch 250/500, Loss: 0.2087\n",
      "Epoch 300/500, Loss: 0.1783\n",
      "Epoch 350/500, Loss: 0.1721\n",
      "Epoch 400/500, Loss: 0.1715\n",
      "Epoch 450/500, Loss: 0.1637\n"
     ]
    }
   ],
   "source": [
    "# Creating the training loop\n",
    "torch.manual_seed(42)\n",
    "\n",
    "epochs = 500\n",
    "\n",
    "for epoch in range(epochs):\n",
    "    model_1.train()\n",
    "    epoch_loss = 0.0\n",
    "    total_batches = len(train_loader)  # Total number of batches\n",
    "\n",
    "    for batch_idx, (inputs, targets) in enumerate(train_loader, start=1):\n",
    "        # 1. Forward pass\n",
    "        y_pred = model_1(inputs)\n",
    "\n",
    "        # 2. Calculate the loss\n",
    "        loss = loss_fn(y_pred, targets)\n",
    "\n",
    "        # 3. Zero the optimizer\n",
    "        optimizer.zero_grad()\n",
    "\n",
    "        # 4. Perform backpropagation\n",
    "        loss.backward()\n",
    "\n",
    "        # 5. Perform gradient descent\n",
    "        optimizer.step()\n",
    "\n",
    "        # Accumulate the loss for each epoch\n",
    "        epoch_loss += loss.item()\n",
    "\n",
    "        if epoch % 50 == 0 and batch_idx == total_batches:\n",
    "            print(f\"Epoch {epoch}/{epochs}, Loss: {epoch_loss / len(train_loader):.4f}\")"
   ]
  },
  {
   "cell_type": "code",
   "execution_count": 39,
   "id": "809e08d3-df49-44cb-8f07-d4fc379d6e7e",
   "metadata": {},
   "outputs": [
    {
     "name": "stdout",
     "output_type": "stream",
     "text": [
      "Test Loss: 0.275289848446846\n"
     ]
    }
   ],
   "source": [
    "# Creating evaluation loop\n",
    "model_1.eval()\n",
    "total_loss = 0.0\n",
    "\n",
    "with torch.no_grad():  # Disable gradient computation\n",
    "        for inputs, targets in test_loader:\n",
    "            # Forward pass: Compute predictions\n",
    "            outputs = model_1(inputs)\n",
    "            \n",
    "            # Compute loss\n",
    "            loss = loss_fn(outputs, targets)\n",
    "            \n",
    "            # Accumulate loss\n",
    "            total_loss += loss.item()\n",
    "    \n",
    "# Print average test loss\n",
    "print(f\"Test Loss: {total_loss / len(test_loader)}\")"
   ]
  },
  {
   "cell_type": "markdown",
   "id": "ccb0d503-8627-46d2-b146-9b6298cb171c",
   "metadata": {},
   "source": [
    "# Using the Model to Predict Car Prices"
   ]
  },
  {
   "cell_type": "code",
   "execution_count": 59,
   "id": "105f48c3-a7c4-4607-beda-a345bcd5b0ad",
   "metadata": {},
   "outputs": [
    {
     "name": "stdout",
     "output_type": "stream",
     "text": [
      "Input: tensor([ 2.0150e+03, -8.5912e-01, -8.7617e-01])\n",
      "Target: tensor([-0.6963])\n",
      "Prediction: tensor([-1.0264])\n"
     ]
    }
   ],
   "source": [
    "# Prediction Algorithm\n",
    "def predict_single(input, target, model):\n",
    "    inputs = input.unsqueeze(0) # adds an extra batch dimension\n",
    "    predictions = model(inputs)\n",
    "    prediction = predictions[0].detach() # detach it from computation graph\n",
    "    \n",
    "    print(\"Input:\", input)\n",
    "    print(\"Target:\", target)\n",
    "    print(\"Prediction:\", prediction)\n",
    "\n",
    "# Testing the model with some samples\n",
    "input, target = test_dataset[7]\n",
    "predict_single(input, target, model_1)"
   ]
  },
  {
   "cell_type": "code",
   "execution_count": null,
   "id": "e6f030c3-e0fb-45fc-8ff4-8f732afd06b1",
   "metadata": {},
   "outputs": [],
   "source": []
  }
 ],
 "metadata": {
  "kernelspec": {
   "display_name": "Python 3 (ipykernel)",
   "language": "python",
   "name": "python3"
  },
  "language_info": {
   "codemirror_mode": {
    "name": "ipython",
    "version": 3
   },
   "file_extension": ".py",
   "mimetype": "text/x-python",
   "name": "python",
   "nbconvert_exporter": "python",
   "pygments_lexer": "ipython3",
   "version": "3.11.8"
  }
 },
 "nbformat": 4,
 "nbformat_minor": 5
}
